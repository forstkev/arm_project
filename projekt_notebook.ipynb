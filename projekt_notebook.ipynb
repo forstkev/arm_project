{
 "cells": [
  {
   "cell_type": "markdown",
   "metadata": {},
   "source": [
    "## ARM Quantitative Group Task\n"
   ]
  },
  {
   "cell_type": "markdown",
   "metadata": {},
   "source": [
    "Authors: Vivien Kühne, Dominik Sidler, Kevin Forsthuber\n",
    "\n",
    "Delivery Date: 12. January, 23:59"
   ]
  },
  {
   "cell_type": "code",
   "execution_count": 1,
   "metadata": {},
   "outputs": [
    {
     "name": "stdout",
     "output_type": "stream",
     "text": [
      "/workspaces/arm_project\n"
     ]
    }
   ],
   "source": [
    "## Libraries\n",
    "import os\n",
    "import numpy as np\n",
    "import pandas as pd\n",
    "# import sqlite3\n",
    "# First and once: pip install mysql-connector\n",
    "# Then\n",
    "import mysql\n",
    "import re\n",
    "\n",
    "# Function to close a sqlite db-connection\n",
    "def check_conn(conn):\n",
    "     try:\n",
    "        conn.cursor()\n",
    "        return True\n",
    "     except Exception as ex:\n",
    "        return False\n",
    "\n",
    "# Get current working directory\n",
    "print(os.getcwd())\n",
    "\n"
   ]
  },
  {
   "cell_type": "markdown",
   "metadata": {},
   "source": [
    "## Import Data"
   ]
  },
  {
   "cell_type": "code",
   "execution_count": 2,
   "metadata": {},
   "outputs": [
    {
     "data": {
      "text/html": [
       "<div>\n",
       "<style scoped>\n",
       "    .dataframe tbody tr th:only-of-type {\n",
       "        vertical-align: middle;\n",
       "    }\n",
       "\n",
       "    .dataframe tbody tr th {\n",
       "        vertical-align: top;\n",
       "    }\n",
       "\n",
       "    .dataframe thead th {\n",
       "        text-align: right;\n",
       "    }\n",
       "</style>\n",
       "<table border=\"1\" class=\"dataframe\">\n",
       "  <thead>\n",
       "    <tr style=\"text-align: right;\">\n",
       "      <th></th>\n",
       "      <th>web-scraper-order</th>\n",
       "      <th>web-scraper-start-url</th>\n",
       "      <th>rooms_area_price_raw</th>\n",
       "      <th>address_raw</th>\n",
       "      <th>price_raw</th>\n",
       "      <th>description_raw</th>\n",
       "      <th>text_raw</th>\n",
       "    </tr>\n",
       "  </thead>\n",
       "  <tbody>\n",
       "    <tr>\n",
       "      <th>0</th>\n",
       "      <td>1693993818-1</td>\n",
       "      <td>https://www.immoscout24.ch/de/wohnung/mieten/o...</td>\n",
       "      <td>6,5 Zimmer, 143 m², CHF 3017.—</td>\n",
       "      <td>Am Eulachpark 25, 8404 Winterthur, ZH</td>\n",
       "      <td>CHF 3017.—</td>\n",
       "      <td>«Sie suchen die spezielle Maisonettewohnung?»</td>\n",
       "      <td>6,5 Zimmer, 143 m², CHF 3017.—Am Eulachpark 25...</td>\n",
       "    </tr>\n",
       "    <tr>\n",
       "      <th>1</th>\n",
       "      <td>1693993818-2</td>\n",
       "      <td>https://www.immoscout24.ch/de/wohnung/mieten/o...</td>\n",
       "      <td>1 Zimmer, 132 m², CHF 3260.—</td>\n",
       "      <td>Katharina Sulzer Platz 2, 8400 Winterthur, ZH</td>\n",
       "      <td>CHF 3260.—</td>\n",
       "      <td>«In Loft-iger Höhe MIETEN OHNE KAUTION»</td>\n",
       "      <td>1 Zimmer, 132 m², CHF 3260.—Katharina Sulzer P...</td>\n",
       "    </tr>\n",
       "    <tr>\n",
       "      <th>2</th>\n",
       "      <td>1693993818-3</td>\n",
       "      <td>https://www.immoscout24.ch/de/wohnung/mieten/o...</td>\n",
       "      <td>4,5 Zimmer, 117 m², CHF 3782.—</td>\n",
       "      <td>8400 Winterthur, ZH</td>\n",
       "      <td>CHF 3782.—</td>\n",
       "      <td>«MÖBLIERT, TEMPORÄR: 4½ ZI-WOHNUNG IN WINTERTH...</td>\n",
       "      <td>4,5 Zimmer, 117 m², CHF 3782.—8400 Winterthur,...</td>\n",
       "    </tr>\n",
       "    <tr>\n",
       "      <th>3</th>\n",
       "      <td>1693993818-4</td>\n",
       "      <td>https://www.immoscout24.ch/de/wohnung/mieten/o...</td>\n",
       "      <td>3,5 Zimmer, 88 m², CHF 2244.—</td>\n",
       "      <td>Untere Briggerstrasse 66, 8406 Winterthur, ZH</td>\n",
       "      <td>CHF 2244.—</td>\n",
       "      <td>«Modernes Leben im EG mit Gartensitzplatz»</td>\n",
       "      <td>3,5 Zimmer, 88 m², CHF 2244.—Untere Briggerstr...</td>\n",
       "    </tr>\n",
       "    <tr>\n",
       "      <th>4</th>\n",
       "      <td>1693993818-5</td>\n",
       "      <td>https://www.immoscout24.ch/de/wohnung/mieten/o...</td>\n",
       "      <td>3,5 Zimmer, 80 m², CHF 1980.—</td>\n",
       "      <td>Wülflingerstrasse 25, 8400 Winterthur, ZH</td>\n",
       "      <td>CHF 1980.—</td>\n",
       "      <td>«Schöne 3.5-Zimmerwohnung mit Balkon zu vermie...</td>\n",
       "      <td>3,5 Zimmer, 80 m², CHF 1980.—Wülflingerstrasse...</td>\n",
       "    </tr>\n",
       "  </tbody>\n",
       "</table>\n",
       "</div>"
      ],
      "text/plain": [
       "  web-scraper-order                              web-scraper-start-url  \\\n",
       "0      1693993818-1  https://www.immoscout24.ch/de/wohnung/mieten/o...   \n",
       "1      1693993818-2  https://www.immoscout24.ch/de/wohnung/mieten/o...   \n",
       "2      1693993818-3  https://www.immoscout24.ch/de/wohnung/mieten/o...   \n",
       "3      1693993818-4  https://www.immoscout24.ch/de/wohnung/mieten/o...   \n",
       "4      1693993818-5  https://www.immoscout24.ch/de/wohnung/mieten/o...   \n",
       "\n",
       "             rooms_area_price_raw  \\\n",
       "0  6,5 Zimmer, 143 m², CHF 3017.—   \n",
       "1    1 Zimmer, 132 m², CHF 3260.—   \n",
       "2  4,5 Zimmer, 117 m², CHF 3782.—   \n",
       "3   3,5 Zimmer, 88 m², CHF 2244.—   \n",
       "4   3,5 Zimmer, 80 m², CHF 1980.—   \n",
       "\n",
       "                                     address_raw   price_raw  \\\n",
       "0          Am Eulachpark 25, 8404 Winterthur, ZH  CHF 3017.—   \n",
       "1  Katharina Sulzer Platz 2, 8400 Winterthur, ZH  CHF 3260.—   \n",
       "2                            8400 Winterthur, ZH  CHF 3782.—   \n",
       "3  Untere Briggerstrasse 66, 8406 Winterthur, ZH  CHF 2244.—   \n",
       "4      Wülflingerstrasse 25, 8400 Winterthur, ZH  CHF 1980.—   \n",
       "\n",
       "                                     description_raw  \\\n",
       "0      «Sie suchen die spezielle Maisonettewohnung?»   \n",
       "1            «In Loft-iger Höhe MIETEN OHNE KAUTION»   \n",
       "2  «MÖBLIERT, TEMPORÄR: 4½ ZI-WOHNUNG IN WINTERTH...   \n",
       "3         «Modernes Leben im EG mit Gartensitzplatz»   \n",
       "4  «Schöne 3.5-Zimmerwohnung mit Balkon zu vermie...   \n",
       "\n",
       "                                            text_raw  \n",
       "0  6,5 Zimmer, 143 m², CHF 3017.—Am Eulachpark 25...  \n",
       "1  1 Zimmer, 132 m², CHF 3260.—Katharina Sulzer P...  \n",
       "2  4,5 Zimmer, 117 m², CHF 3782.—8400 Winterthur,...  \n",
       "3  3,5 Zimmer, 88 m², CHF 2244.—Untere Briggerstr...  \n",
       "4  3,5 Zimmer, 80 m², CHF 1980.—Wülflingerstrasse...  "
      ]
     },
     "execution_count": 2,
     "metadata": {},
     "output_type": "execute_result"
    }
   ],
   "source": [
    "## Import Data\n",
    "# Read the data to a pandas data frame\n",
    "df = pd.read_csv('./apartments_data_winterthur.csv', sep=',', encoding='utf-8')\n",
    "\n",
    "# Show first records of data frame\n",
    "df.head(5)"
   ]
  },
  {
   "cell_type": "markdown",
   "metadata": {},
   "source": [
    "## Data Prepeartion"
   ]
  },
  {
   "cell_type": "code",
   "execution_count": null,
   "metadata": {},
   "outputs": [],
   "source": [
    "# Get data types (note that in pandas, a string is referred to as 'object')\n",
    "df.dtypes\n",
    "\n",
    "## What about NA-Values?\n",
    "# Identify rows with missing values\n",
    "df[df.isna().any(axis=1)].head()\n",
    "\n",
    "#Extract and add if necesssary\n",
    "# Extract values from 'price_raw' strings\n",
    "price = []\n",
    "for i in df['price_raw']:\n",
    "    d1 = re.findall('[0-9]+', i)\n",
    "    try:\n",
    "        d2 = d1[0].strip()\n",
    "    except:\n",
    "        d2 = None\n",
    "    price.append(d2)\n",
    "\n",
    "# Save as new variable in the pandas data frame\n",
    "df['price'] = pd.Series(price, dtype=\"Int64\")"
   ]
  },
  {
   "cell_type": "markdown",
   "metadata": {},
   "source": [
    "## Store Data in Data Base"
   ]
  },
  {
   "cell_type": "code",
   "execution_count": 4,
   "metadata": {},
   "outputs": [
    {
     "ename": "KeyboardInterrupt",
     "evalue": "",
     "output_type": "error",
     "traceback": [
      "\u001b[0;31m---------------------------------------------------------------------------\u001b[0m",
      "\u001b[0;31mKeyboardInterrupt\u001b[0m                         Traceback (most recent call last)",
      "Cell \u001b[0;32mIn[4], line 9\u001b[0m\n\u001b[1;32m      3\u001b[0m \u001b[38;5;28;01mfrom\u001b[39;00m \u001b[38;5;21;01mmysql\u001b[39;00m\u001b[38;5;21;01m.\u001b[39;00m\u001b[38;5;21;01mconnector\u001b[39;00m \u001b[38;5;28;01mimport\u001b[39;00m errorcode\n\u001b[1;32m      5\u001b[0m config \u001b[38;5;241m=\u001b[39m {\u001b[38;5;124m'\u001b[39m\u001b[38;5;124muser\u001b[39m\u001b[38;5;124m'\u001b[39m: \u001b[38;5;124m'\u001b[39m\u001b[38;5;124mMySQL Codespace\u001b[39m\u001b[38;5;124m'\u001b[39m, \n\u001b[1;32m      6\u001b[0m           \u001b[38;5;124m'\u001b[39m\u001b[38;5;124mpassword\u001b[39m\u001b[38;5;124m'\u001b[39m: \u001b[38;5;124m'\u001b[39m\u001b[38;5;124marm\u001b[39m\u001b[38;5;124m'\u001b[39m, \n\u001b[1;32m      7\u001b[0m           \u001b[38;5;124m'\u001b[39m\u001b[38;5;124mhost\u001b[39m\u001b[38;5;124m'\u001b[39m: \u001b[38;5;124m'\u001b[39m\u001b[38;5;124m3306\u001b[39m\u001b[38;5;124m'\u001b[39m}\n\u001b[0;32m----> 9\u001b[0m conn \u001b[38;5;241m=\u001b[39m \u001b[43mmysql\u001b[49m\u001b[38;5;241;43m.\u001b[39;49m\u001b[43mconnector\u001b[49m\u001b[38;5;241;43m.\u001b[39;49m\u001b[43mconnect\u001b[49m\u001b[43m(\u001b[49m\u001b[38;5;241;43m*\u001b[39;49m\u001b[38;5;241;43m*\u001b[39;49m\u001b[43mconfig\u001b[49m\u001b[43m)\u001b[49m\n\u001b[1;32m     12\u001b[0m \u001b[38;5;66;03m# Create cursor object to execute SQL commands\u001b[39;00m\n\u001b[1;32m     13\u001b[0m cursor \u001b[38;5;241m=\u001b[39m conn\u001b[38;5;241m.\u001b[39mcursor()\n",
      "File \u001b[0;32m/usr/local/python/3.12.1/lib/python3.12/site-packages/mysql/connector/__init__.py:179\u001b[0m, in \u001b[0;36mconnect\u001b[0;34m(*args, **kwargs)\u001b[0m\n\u001b[1;32m    177\u001b[0m     \u001b[38;5;28;01mreturn\u001b[39;00m CMySQLConnection(\u001b[38;5;241m*\u001b[39margs, \u001b[38;5;241m*\u001b[39m\u001b[38;5;241m*\u001b[39mkwargs)\n\u001b[1;32m    178\u001b[0m \u001b[38;5;28;01melse\u001b[39;00m:\n\u001b[0;32m--> 179\u001b[0m     \u001b[38;5;28;01mreturn\u001b[39;00m \u001b[43mMySQLConnection\u001b[49m\u001b[43m(\u001b[49m\u001b[38;5;241;43m*\u001b[39;49m\u001b[43margs\u001b[49m\u001b[43m,\u001b[49m\u001b[43m \u001b[49m\u001b[38;5;241;43m*\u001b[39;49m\u001b[38;5;241;43m*\u001b[39;49m\u001b[43mkwargs\u001b[49m\u001b[43m)\u001b[49m\n",
      "File \u001b[0;32m/usr/local/python/3.12.1/lib/python3.12/site-packages/mysql/connector/connection.py:95\u001b[0m, in \u001b[0;36mMySQLConnection.__init__\u001b[0;34m(self, *args, **kwargs)\u001b[0m\n\u001b[1;32m     92\u001b[0m \u001b[38;5;28mself\u001b[39m\u001b[38;5;241m.\u001b[39m_pool_config_version \u001b[38;5;241m=\u001b[39m \u001b[38;5;28;01mNone\u001b[39;00m\n\u001b[1;32m     94\u001b[0m \u001b[38;5;28;01mif\u001b[39;00m \u001b[38;5;28mlen\u001b[39m(kwargs) \u001b[38;5;241m>\u001b[39m \u001b[38;5;241m0\u001b[39m:\n\u001b[0;32m---> 95\u001b[0m     \u001b[38;5;28;43mself\u001b[39;49m\u001b[38;5;241;43m.\u001b[39;49m\u001b[43mconnect\u001b[49m\u001b[43m(\u001b[49m\u001b[38;5;241;43m*\u001b[39;49m\u001b[38;5;241;43m*\u001b[39;49m\u001b[43mkwargs\u001b[49m\u001b[43m)\u001b[49m\n",
      "File \u001b[0;32m/usr/local/python/3.12.1/lib/python3.12/site-packages/mysql/connector/abstracts.py:716\u001b[0m, in \u001b[0;36mMySQLConnectionAbstract.connect\u001b[0;34m(self, **kwargs)\u001b[0m\n\u001b[1;32m    713\u001b[0m     \u001b[38;5;28mself\u001b[39m\u001b[38;5;241m.\u001b[39mconfig(\u001b[38;5;241m*\u001b[39m\u001b[38;5;241m*\u001b[39mkwargs)\n\u001b[1;32m    715\u001b[0m \u001b[38;5;28mself\u001b[39m\u001b[38;5;241m.\u001b[39mdisconnect()\n\u001b[0;32m--> 716\u001b[0m \u001b[38;5;28;43mself\u001b[39;49m\u001b[38;5;241;43m.\u001b[39;49m\u001b[43m_open_connection\u001b[49m\u001b[43m(\u001b[49m\u001b[43m)\u001b[49m\n\u001b[1;32m    717\u001b[0m \u001b[38;5;28mself\u001b[39m\u001b[38;5;241m.\u001b[39m_post_connection()\n",
      "File \u001b[0;32m/usr/local/python/3.12.1/lib/python3.12/site-packages/mysql/connector/connection.py:206\u001b[0m, in \u001b[0;36mMySQLConnection._open_connection\u001b[0;34m(self)\u001b[0m\n\u001b[1;32m    204\u001b[0m \u001b[38;5;28mself\u001b[39m\u001b[38;5;241m.\u001b[39m_protocol \u001b[38;5;241m=\u001b[39m MySQLProtocol()\n\u001b[1;32m    205\u001b[0m \u001b[38;5;28mself\u001b[39m\u001b[38;5;241m.\u001b[39m_socket \u001b[38;5;241m=\u001b[39m \u001b[38;5;28mself\u001b[39m\u001b[38;5;241m.\u001b[39m_get_connection()\n\u001b[0;32m--> 206\u001b[0m \u001b[38;5;28;43mself\u001b[39;49m\u001b[38;5;241;43m.\u001b[39;49m\u001b[43m_socket\u001b[49m\u001b[38;5;241;43m.\u001b[39;49m\u001b[43mopen_connection\u001b[49m\u001b[43m(\u001b[49m\u001b[43m)\u001b[49m\n\u001b[1;32m    207\u001b[0m \u001b[38;5;28mself\u001b[39m\u001b[38;5;241m.\u001b[39m_do_handshake()\n\u001b[1;32m    208\u001b[0m \u001b[38;5;28mself\u001b[39m\u001b[38;5;241m.\u001b[39m_do_auth(\u001b[38;5;28mself\u001b[39m\u001b[38;5;241m.\u001b[39m_user, \u001b[38;5;28mself\u001b[39m\u001b[38;5;241m.\u001b[39m_password,\n\u001b[1;32m    209\u001b[0m               \u001b[38;5;28mself\u001b[39m\u001b[38;5;241m.\u001b[39m_database, \u001b[38;5;28mself\u001b[39m\u001b[38;5;241m.\u001b[39m_client_flags, \u001b[38;5;28mself\u001b[39m\u001b[38;5;241m.\u001b[39m_charset_id,\n\u001b[1;32m    210\u001b[0m               \u001b[38;5;28mself\u001b[39m\u001b[38;5;241m.\u001b[39m_ssl)\n",
      "File \u001b[0;32m/usr/local/python/3.12.1/lib/python3.12/site-packages/mysql/connector/network.py:509\u001b[0m, in \u001b[0;36mMySQLTCPSocket.open_connection\u001b[0;34m(self)\u001b[0m\n\u001b[1;32m    507\u001b[0m     \u001b[38;5;28mself\u001b[39m\u001b[38;5;241m.\u001b[39msock \u001b[38;5;241m=\u001b[39m socket\u001b[38;5;241m.\u001b[39msocket(\u001b[38;5;28mself\u001b[39m\u001b[38;5;241m.\u001b[39m_family, socktype, proto)\n\u001b[1;32m    508\u001b[0m     \u001b[38;5;28mself\u001b[39m\u001b[38;5;241m.\u001b[39msock\u001b[38;5;241m.\u001b[39msettimeout(\u001b[38;5;28mself\u001b[39m\u001b[38;5;241m.\u001b[39m_connection_timeout)\n\u001b[0;32m--> 509\u001b[0m     \u001b[38;5;28;43mself\u001b[39;49m\u001b[38;5;241;43m.\u001b[39;49m\u001b[43msock\u001b[49m\u001b[38;5;241;43m.\u001b[39;49m\u001b[43mconnect\u001b[49m\u001b[43m(\u001b[49m\u001b[43msockaddr\u001b[49m\u001b[43m)\u001b[49m\n\u001b[1;32m    510\u001b[0m \u001b[38;5;28;01mexcept\u001b[39;00m \u001b[38;5;167;01mIOError\u001b[39;00m \u001b[38;5;28;01mas\u001b[39;00m err:\n\u001b[1;32m    511\u001b[0m     \u001b[38;5;28;01mraise\u001b[39;00m errors\u001b[38;5;241m.\u001b[39mInterfaceError(\n\u001b[1;32m    512\u001b[0m         errno\u001b[38;5;241m=\u001b[39m\u001b[38;5;241m2003\u001b[39m, values\u001b[38;5;241m=\u001b[39m(\u001b[38;5;28mself\u001b[39m\u001b[38;5;241m.\u001b[39mget_address(), _strioerror(err)))\n",
      "\u001b[0;31mKeyboardInterrupt\u001b[0m: "
     ]
    }
   ],
   "source": [
    "# Create data base\n",
    "import mysql.connector\n",
    "from mysql.connector import errorcode\n",
    "\n",
    "config = {'user': 'MySQL Codespace', \n",
    "          'password': 'arm', \n",
    "          'host': '3306'}\n",
    "\n",
    "conn = mysql.connector.connect(**config)\n",
    "\n",
    "\n",
    "# Create cursor object to execute SQL commands\n",
    "cursor = conn.cursor()\n",
    "\n",
    "# Connect to MySQL Server \n",
    "try: \n",
    "    conn = mysql.connector.connect(**config) \n",
    "    cursor = conn.cursor() \n",
    "\n",
    "    # Create a new database \n",
    "    cursor.execute(\"CREATE DATABASE IF NOT EXISTS name_tbd\") \n",
    "    print(\"Database created successfully.\") \n",
    "\n",
    "    # Connect to the new database \n",
    "    conn.database = 'name_tbd' \n",
    "    \n",
    "    # Create a new table \n",
    "    create_table_query = \"\"\" CREATE TABLE IF NOT EXISTS name_tbd ( id INT AUTO_INCREMENT PRIMARY KEY, \n",
    "                                                                        name VARCHAR(255) NOT NULL, \n",
    "                                                                        location VARCHAR(255) NOT NULL, \n",
    "                                                                        price DECIMAL(10, 2) ) \"\"\" \n",
    "    cursor.execute(create_table_query) \n",
    "    print(\"Table created successfully.\") \n",
    "except mysql.connector.Error as err: \n",
    "    if err.errno == errorcode.ER_ACCESS_DENIED_ERROR: \n",
    "        print(\"Something is wrong with your user name or password\") \n",
    "    elif err.errno == errorcode.ER_BAD_DB_ERROR: \n",
    "        print(\"Database does not exist\") \n",
    "    else: print(err)\n",
    "finally: \n",
    "    cursor.close() \n",
    "    conn.close()"
   ]
  },
  {
   "cell_type": "markdown",
   "metadata": {},
   "source": [
    "## Non-graphical and Graphical exploratory data analysis (EDA)"
   ]
  },
  {
   "cell_type": "code",
   "execution_count": null,
   "metadata": {},
   "outputs": [],
   "source": [
    "## EDA\n",
    "# Integration and visualization of geographical data\n"
   ]
  },
  {
   "cell_type": "markdown",
   "metadata": {},
   "source": [
    "## Modeling method(s)"
   ]
  },
  {
   "cell_type": "code",
   "execution_count": null,
   "metadata": {},
   "outputs": [],
   "source": [
    "## Modelling\n",
    "\n",
    "# Model 1\n",
    "\n",
    "# Model 2"
   ]
  },
  {
   "cell_type": "markdown",
   "metadata": {},
   "source": [
    "## Model evaluation"
   ]
  },
  {
   "cell_type": "code",
   "execution_count": null,
   "metadata": {},
   "outputs": [],
   "source": [
    "## each test must include a p-value\n",
    "\n",
    "# rmse\n",
    "\n",
    "# r-squared\n",
    "\n",
    "# ANOVA\n",
    "\n",
    "# Chi-squared test\n",
    "\n",
    "# correlation analysis "
   ]
  },
  {
   "cell_type": "markdown",
   "metadata": {},
   "source": [
    "## results and measures of fit"
   ]
  },
  {
   "cell_type": "code",
   "execution_count": null,
   "metadata": {},
   "outputs": [],
   "source": [
    "# Interpretation of Model Evaluation"
   ]
  },
  {
   "cell_type": "markdown",
   "metadata": {},
   "source": [
    "### Close DB Connection"
   ]
  },
  {
   "cell_type": "code",
   "execution_count": null,
   "metadata": {},
   "outputs": [],
   "source": [
    "# Close db connection (if open)\n",
    "try:\n",
    "    if check_conn(conn_mysql):\n",
    "        conn_mysql.close()\n",
    "    else:\n",
    "        pass\n",
    "except:\n",
    "    pass\n",
    "\n",
    "# Status (True = open, False = closed)\n",
    "print(check_conn(conn_mysql))"
   ]
  },
  {
   "cell_type": "markdown",
   "metadata": {},
   "source": [
    "### Jupyter notebook --footer info-- (please always provide this at the end of each submitted notebook)"
   ]
  },
  {
   "cell_type": "code",
   "execution_count": null,
   "metadata": {},
   "outputs": [],
   "source": [
    "import os\n",
    "import platform\n",
    "import socket\n",
    "from platform import python_version\n",
    "from datetime import datetime\n",
    "\n",
    "print('-----------------------------------')\n",
    "print(os.name.upper())\n",
    "print(platform.system(), '|', platform.release())\n",
    "print('Datetime:', datetime.now().strftime(\"%Y-%m-%d %H:%M:%S\"))\n",
    "print('Python Version:', python_version())\n",
    "print('-----------------------------------')"
   ]
  }
 ],
 "metadata": {
  "kernelspec": {
   "display_name": "Python 3",
   "language": "python",
   "name": "python3"
  },
  "language_info": {
   "codemirror_mode": {
    "name": "ipython",
    "version": 3
   },
   "file_extension": ".py",
   "mimetype": "text/x-python",
   "name": "python",
   "nbconvert_exporter": "python",
   "pygments_lexer": "ipython3",
   "version": "3.12.1"
  }
 },
 "nbformat": 4,
 "nbformat_minor": 2
}
